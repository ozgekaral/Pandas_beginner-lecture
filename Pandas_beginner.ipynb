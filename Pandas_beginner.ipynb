{
 "cells": [
  {
   "cell_type": "markdown",
   "id": "cea9b70a",
   "metadata": {},
   "source": [
    "### PANDAS ###"
   ]
  },
  {
   "cell_type": "code",
   "execution_count": 5,
   "id": "ac4d56f6",
   "metadata": {},
   "outputs": [],
   "source": [
    "import pandas as pd"
   ]
  },
  {
   "cell_type": "code",
   "execution_count": 6,
   "id": "e2dc9695",
   "metadata": {},
   "outputs": [
    {
     "data": {
      "text/plain": [
       "0      45\n",
       "1    5455\n",
       "2      55\n",
       "3      12\n",
       "4     225\n",
       "dtype: int64"
      ]
     },
     "execution_count": 6,
     "metadata": {},
     "output_type": "execute_result"
    }
   ],
   "source": [
    "pd.Series([45,5455,55,12,225])"
   ]
  },
  {
   "cell_type": "code",
   "execution_count": 7,
   "id": "2d677607",
   "metadata": {},
   "outputs": [],
   "source": [
    "x=pd.Series([45,5455,55,12,225])"
   ]
  },
  {
   "cell_type": "code",
   "execution_count": 8,
   "id": "e20f957c",
   "metadata": {},
   "outputs": [
    {
     "data": {
      "text/plain": [
       "pandas.core.series.Series"
      ]
     },
     "execution_count": 8,
     "metadata": {},
     "output_type": "execute_result"
    }
   ],
   "source": [
    "type(x)"
   ]
  },
  {
   "cell_type": "code",
   "execution_count": 9,
   "id": "9d0d78c2",
   "metadata": {},
   "outputs": [
    {
     "data": {
      "text/plain": [
       "[RangeIndex(start=0, stop=5, step=1)]"
      ]
     },
     "execution_count": 9,
     "metadata": {},
     "output_type": "execute_result"
    }
   ],
   "source": [
    "x.axes"
   ]
  },
  {
   "cell_type": "code",
   "execution_count": 10,
   "id": "4678de7e",
   "metadata": {},
   "outputs": [
    {
     "data": {
      "text/plain": [
       "dtype('int64')"
      ]
     },
     "execution_count": 10,
     "metadata": {},
     "output_type": "execute_result"
    }
   ],
   "source": [
    "x.dtype"
   ]
  },
  {
   "cell_type": "code",
   "execution_count": 11,
   "id": "32fc281d",
   "metadata": {},
   "outputs": [
    {
     "data": {
      "text/plain": [
       "5"
      ]
     },
     "execution_count": 11,
     "metadata": {},
     "output_type": "execute_result"
    }
   ],
   "source": [
    "x.size"
   ]
  },
  {
   "cell_type": "code",
   "execution_count": 12,
   "id": "e7ee00d2",
   "metadata": {},
   "outputs": [
    {
     "data": {
      "text/plain": [
       "1"
      ]
     },
     "execution_count": 12,
     "metadata": {},
     "output_type": "execute_result"
    }
   ],
   "source": [
    "x.ndim"
   ]
  },
  {
   "cell_type": "code",
   "execution_count": 13,
   "id": "59611b9b",
   "metadata": {},
   "outputs": [
    {
     "data": {
      "text/plain": [
       "array([  45, 5455,   55,   12,  225], dtype=int64)"
      ]
     },
     "execution_count": 13,
     "metadata": {},
     "output_type": "execute_result"
    }
   ],
   "source": [
    "x.values"
   ]
  },
  {
   "cell_type": "code",
   "execution_count": 14,
   "id": "18a5bd8f",
   "metadata": {},
   "outputs": [
    {
     "data": {
      "text/plain": [
       "0      45\n",
       "1    5455\n",
       "dtype: int64"
      ]
     },
     "execution_count": 14,
     "metadata": {},
     "output_type": "execute_result"
    }
   ],
   "source": [
    "x.head(2)"
   ]
  },
  {
   "cell_type": "code",
   "execution_count": 15,
   "id": "65116494",
   "metadata": {},
   "outputs": [
    {
     "data": {
      "text/plain": [
       "3     12\n",
       "4    225\n",
       "dtype: int64"
      ]
     },
     "execution_count": 15,
     "metadata": {},
     "output_type": "execute_result"
    }
   ],
   "source": [
    "x.tail(2)"
   ]
  },
  {
   "cell_type": "code",
   "execution_count": 16,
   "id": "fcceb882",
   "metadata": {},
   "outputs": [
    {
     "data": {
      "text/plain": [
       "2      45\n",
       "5    5455\n",
       "7      55\n",
       "8      12\n",
       "5     225\n",
       "dtype: int64"
      ]
     },
     "execution_count": 16,
     "metadata": {},
     "output_type": "execute_result"
    }
   ],
   "source": [
    "x=pd.Series([45,5455,55,12,225], index=[2,5,7,8,5])\n",
    "x"
   ]
  },
  {
   "cell_type": "code",
   "execution_count": 17,
   "id": "7bfdc02a",
   "metadata": {},
   "outputs": [
    {
     "data": {
      "text/plain": [
       "5    5455\n",
       "7      55\n",
       "dtype: int64"
      ]
     },
     "execution_count": 17,
     "metadata": {},
     "output_type": "execute_result"
    }
   ],
   "source": [
    "x[1:3]"
   ]
  },
  {
   "cell_type": "code",
   "execution_count": 18,
   "id": "5b25faed",
   "metadata": {},
   "outputs": [
    {
     "data": {
      "text/plain": [
       "45"
      ]
     },
     "execution_count": 18,
     "metadata": {},
     "output_type": "execute_result"
    }
   ],
   "source": [
    "x[2]"
   ]
  },
  {
   "cell_type": "code",
   "execution_count": 19,
   "id": "66f9b8ca",
   "metadata": {},
   "outputs": [
    {
     "data": {
      "text/plain": [
       "x      45\n",
       "y    5455\n",
       "z      55\n",
       "t      12\n",
       "m     225\n",
       "dtype: int64"
      ]
     },
     "execution_count": 19,
     "metadata": {},
     "output_type": "execute_result"
    }
   ],
   "source": [
    "x=pd.Series([45,5455,55,12,225], index=['x','y','z','t','m'])\n",
    "x"
   ]
  },
  {
   "cell_type": "code",
   "execution_count": 20,
   "id": "feab4e7e",
   "metadata": {},
   "outputs": [
    {
     "data": {
      "text/plain": [
       "y    5455\n",
       "z      55\n",
       "t      12\n",
       "dtype: int64"
      ]
     },
     "execution_count": 20,
     "metadata": {},
     "output_type": "execute_result"
    }
   ],
   "source": [
    "x['y':'t']"
   ]
  },
  {
   "cell_type": "code",
   "execution_count": 21,
   "id": "eef65559",
   "metadata": {},
   "outputs": [
    {
     "data": {
      "text/plain": [
       "55"
      ]
     },
     "execution_count": 21,
     "metadata": {},
     "output_type": "execute_result"
    }
   ],
   "source": [
    "x['z']"
   ]
  },
  {
   "cell_type": "code",
   "execution_count": 22,
   "id": "1ef6c42b",
   "metadata": {},
   "outputs": [],
   "source": [
    "dicti={'std':15,'mean':45,'mod':5}"
   ]
  },
  {
   "cell_type": "code",
   "execution_count": 23,
   "id": "299f97c2",
   "metadata": {},
   "outputs": [
    {
     "data": {
      "text/plain": [
       "std     15\n",
       "mean    45\n",
       "mod      5\n",
       "dtype: int64"
      ]
     },
     "execution_count": 23,
     "metadata": {},
     "output_type": "execute_result"
    }
   ],
   "source": [
    "a=pd.Series(dicti)\n",
    "a"
   ]
  },
  {
   "cell_type": "code",
   "execution_count": 24,
   "id": "3316dde2",
   "metadata": {},
   "outputs": [
    {
     "data": {
      "text/plain": [
       "15"
      ]
     },
     "execution_count": 24,
     "metadata": {},
     "output_type": "execute_result"
    }
   ],
   "source": [
    "a[0]"
   ]
  },
  {
   "cell_type": "code",
   "execution_count": 25,
   "id": "15cb2168",
   "metadata": {},
   "outputs": [
    {
     "data": {
      "text/plain": [
       "std     15\n",
       "mean    45\n",
       "dtype: int64"
      ]
     },
     "execution_count": 25,
     "metadata": {},
     "output_type": "execute_result"
    }
   ],
   "source": [
    "a['std':'mean']"
   ]
  },
  {
   "cell_type": "code",
   "execution_count": 26,
   "id": "cb66f0c2",
   "metadata": {},
   "outputs": [
    {
     "data": {
      "text/plain": [
       "0     5\n",
       "1     5\n",
       "2    12\n",
       "3    35\n",
       "dtype: int64"
      ]
     },
     "execution_count": 26,
     "metadata": {},
     "output_type": "execute_result"
    }
   ],
   "source": [
    "y=pd.Series([5,5,12,35])\n",
    "y"
   ]
  },
  {
   "cell_type": "code",
   "execution_count": 27,
   "id": "cfc00e78",
   "metadata": {},
   "outputs": [
    {
     "data": {
      "text/plain": [
       "x      45\n",
       "y    5455\n",
       "z      55\n",
       "t      12\n",
       "m     225\n",
       "0       5\n",
       "1       5\n",
       "2      12\n",
       "3      35\n",
       "dtype: int64"
      ]
     },
     "execution_count": 27,
     "metadata": {},
     "output_type": "execute_result"
    }
   ],
   "source": [
    "pd.concat([x,y])"
   ]
  },
  {
   "cell_type": "code",
   "execution_count": 28,
   "id": "f2d6e310",
   "metadata": {},
   "outputs": [
    {
     "data": {
      "text/plain": [
       "x         45\n",
       "y       5455\n",
       "z         55\n",
       "t         12\n",
       "m        225\n",
       "std       15\n",
       "mean      45\n",
       "mod        5\n",
       "dtype: int64"
      ]
     },
     "execution_count": 28,
     "metadata": {},
     "output_type": "execute_result"
    }
   ],
   "source": [
    "pd.concat([x,a])"
   ]
  },
  {
   "cell_type": "markdown",
   "id": "a8859f4a",
   "metadata": {},
   "source": [
    "### Element operations ###"
   ]
  },
  {
   "cell_type": "code",
   "execution_count": 29,
   "id": "4966e951",
   "metadata": {},
   "outputs": [],
   "source": [
    "import numpy as np\n",
    "import pandas as pd"
   ]
  },
  {
   "cell_type": "code",
   "execution_count": 30,
   "id": "8d945a20",
   "metadata": {},
   "outputs": [],
   "source": [
    "t=np.array([4,5,6,8,9,12])"
   ]
  },
  {
   "cell_type": "code",
   "execution_count": 31,
   "id": "8e236540",
   "metadata": {},
   "outputs": [
    {
     "data": {
      "text/plain": [
       "0     4\n",
       "1     5\n",
       "2     6\n",
       "3     8\n",
       "4     9\n",
       "5    12\n",
       "dtype: int32"
      ]
     },
     "execution_count": 31,
     "metadata": {},
     "output_type": "execute_result"
    }
   ],
   "source": [
    "u=pd.Series(t)\n",
    "u"
   ]
  },
  {
   "cell_type": "code",
   "execution_count": 32,
   "id": "0c5295b1",
   "metadata": {},
   "outputs": [
    {
     "data": {
      "text/plain": [
       "6"
      ]
     },
     "execution_count": 32,
     "metadata": {},
     "output_type": "execute_result"
    }
   ],
   "source": [
    "t[2]"
   ]
  },
  {
   "cell_type": "code",
   "execution_count": 33,
   "id": "c6462efe",
   "metadata": {},
   "outputs": [
    {
     "data": {
      "text/plain": [
       "array([5, 6, 8])"
      ]
     },
     "execution_count": 33,
     "metadata": {},
     "output_type": "execute_result"
    }
   ],
   "source": [
    "t[1:4]"
   ]
  },
  {
   "cell_type": "code",
   "execution_count": 34,
   "id": "433478c9",
   "metadata": {},
   "outputs": [
    {
     "data": {
      "text/plain": [
       "RangeIndex(start=0, stop=6, step=1)"
      ]
     },
     "execution_count": 34,
     "metadata": {},
     "output_type": "execute_result"
    }
   ],
   "source": [
    "u.index"
   ]
  },
  {
   "cell_type": "code",
   "execution_count": 35,
   "id": "bc1a74a2",
   "metadata": {},
   "outputs": [
    {
     "data": {
      "text/plain": [
       "<bound method Series.keys of 0     4\n",
       "1     5\n",
       "2     6\n",
       "3     8\n",
       "4     9\n",
       "5    12\n",
       "dtype: int32>"
      ]
     },
     "execution_count": 35,
     "metadata": {},
     "output_type": "execute_result"
    }
   ],
   "source": [
    "u.keys"
   ]
  },
  {
   "cell_type": "code",
   "execution_count": 36,
   "id": "2480b833",
   "metadata": {},
   "outputs": [
    {
     "data": {
      "text/plain": [
       "[(0, 4), (1, 5), (2, 6), (3, 8), (4, 9), (5, 12)]"
      ]
     },
     "execution_count": 36,
     "metadata": {},
     "output_type": "execute_result"
    }
   ],
   "source": [
    "list(u.items())"
   ]
  },
  {
   "cell_type": "code",
   "execution_count": 37,
   "id": "75bc2317",
   "metadata": {},
   "outputs": [
    {
     "data": {
      "text/plain": [
       "array([ 4,  5,  6,  8,  9, 12])"
      ]
     },
     "execution_count": 37,
     "metadata": {},
     "output_type": "execute_result"
    }
   ],
   "source": [
    "u.values"
   ]
  },
  {
   "cell_type": "code",
   "execution_count": 38,
   "id": "c6f161c6",
   "metadata": {},
   "outputs": [
    {
     "data": {
      "text/plain": [
       "False"
      ]
     },
     "execution_count": 38,
     "metadata": {},
     "output_type": "execute_result"
    }
   ],
   "source": [
    "6 in u"
   ]
  },
  {
   "cell_type": "code",
   "execution_count": 39,
   "id": "ae909ff0",
   "metadata": {},
   "outputs": [
    {
     "data": {
      "text/plain": [
       "True"
      ]
     },
     "execution_count": 39,
     "metadata": {},
     "output_type": "execute_result"
    }
   ],
   "source": [
    "1 in u"
   ]
  },
  {
   "cell_type": "markdown",
   "id": "d77ae121",
   "metadata": {},
   "source": [
    "#### Fancy Element ####"
   ]
  },
  {
   "cell_type": "code",
   "execution_count": 40,
   "id": "324b3c27",
   "metadata": {},
   "outputs": [
    {
     "data": {
      "text/plain": [
       "1    5\n",
       "2    6\n",
       "dtype: int32"
      ]
     },
     "execution_count": 40,
     "metadata": {},
     "output_type": "execute_result"
    }
   ],
   "source": [
    "u[[1, 2]]                       # give the name of series to find the value."
   ]
  },
  {
   "cell_type": "code",
   "execution_count": 41,
   "id": "e2464d7b",
   "metadata": {},
   "outputs": [
    {
     "data": {
      "text/plain": [
       "5"
      ]
     },
     "execution_count": 41,
     "metadata": {},
     "output_type": "execute_result"
    }
   ],
   "source": [
    "u[1]"
   ]
  },
  {
   "cell_type": "code",
   "execution_count": 42,
   "id": "f1fbc7aa",
   "metadata": {},
   "outputs": [],
   "source": [
    "u[1]=555"
   ]
  },
  {
   "cell_type": "code",
   "execution_count": 43,
   "id": "8d5625fa",
   "metadata": {},
   "outputs": [
    {
     "data": {
      "text/plain": [
       "0      4\n",
       "1    555\n",
       "2      6\n",
       "3      8\n",
       "4      9\n",
       "5     12\n",
       "dtype: int32"
      ]
     },
     "execution_count": 43,
     "metadata": {},
     "output_type": "execute_result"
    }
   ],
   "source": [
    "u"
   ]
  },
  {
   "cell_type": "markdown",
   "id": "bb0b25dd",
   "metadata": {},
   "source": [
    "### Create a Dataframe ###"
   ]
  },
  {
   "cell_type": "code",
   "execution_count": null,
   "id": "ae3fb953",
   "metadata": {},
   "outputs": [],
   "source": [
    "p=[1,2,3,4,5,6,7]"
   ]
  },
  {
   "cell_type": "code",
   "execution_count": null,
   "id": "828f4067",
   "metadata": {},
   "outputs": [],
   "source": [
    "import pandas as pd"
   ]
  },
  {
   "cell_type": "code",
   "execution_count": null,
   "id": "02dfc36a",
   "metadata": {},
   "outputs": [],
   "source": [
    "pd.DataFrame(p, columns=['data'])"
   ]
  },
  {
   "cell_type": "code",
   "execution_count": null,
   "id": "c0e455da",
   "metadata": {},
   "outputs": [],
   "source": [
    "import numpy as np"
   ]
  },
  {
   "cell_type": "code",
   "execution_count": null,
   "id": "7c815e48",
   "metadata": {},
   "outputs": [],
   "source": [
    "s=np.arange(1,10).reshape(3,3)\n",
    "s"
   ]
  },
  {
   "cell_type": "code",
   "execution_count": null,
   "id": "9efc90f6",
   "metadata": {},
   "outputs": [],
   "source": [
    "pd.DataFrame(s, columns=['data1','data2','data3'])             #create a dataframe from any numpy array."
   ]
  },
  {
   "cell_type": "code",
   "execution_count": null,
   "id": "1f83ed2d",
   "metadata": {},
   "outputs": [],
   "source": [
    "df=pd.DataFrame(s, columns=['value1','value2','value3'])\n",
    "df"
   ]
  },
  {
   "cell_type": "code",
   "execution_count": null,
   "id": "c11ccf98",
   "metadata": {},
   "outputs": [],
   "source": [
    "df.columns"
   ]
  },
  {
   "cell_type": "code",
   "execution_count": null,
   "id": "77b2ee31",
   "metadata": {},
   "outputs": [],
   "source": [
    "df.columns=('x','y','z')\n",
    "df"
   ]
  },
  {
   "cell_type": "code",
   "execution_count": null,
   "id": "b1eb679e",
   "metadata": {},
   "outputs": [],
   "source": [
    "type(df)"
   ]
  },
  {
   "cell_type": "code",
   "execution_count": null,
   "id": "3174ebd3",
   "metadata": {},
   "outputs": [],
   "source": [
    "df.axes"
   ]
  },
  {
   "cell_type": "code",
   "execution_count": null,
   "id": "e4007632",
   "metadata": {},
   "outputs": [],
   "source": [
    "df.shape"
   ]
  },
  {
   "cell_type": "code",
   "execution_count": null,
   "id": "71b0dd9e",
   "metadata": {},
   "outputs": [],
   "source": [
    "df.ndim"
   ]
  },
  {
   "cell_type": "code",
   "execution_count": null,
   "id": "c3a4f91a",
   "metadata": {},
   "outputs": [],
   "source": [
    "df.size"
   ]
  },
  {
   "cell_type": "code",
   "execution_count": null,
   "id": "33672d16",
   "metadata": {},
   "outputs": [],
   "source": [
    "df.values"
   ]
  },
  {
   "cell_type": "code",
   "execution_count": null,
   "id": "446e4425",
   "metadata": {},
   "outputs": [],
   "source": [
    "type(df.values)"
   ]
  },
  {
   "cell_type": "code",
   "execution_count": null,
   "id": "6634e85d",
   "metadata": {},
   "outputs": [],
   "source": [
    "df.head()"
   ]
  },
  {
   "cell_type": "code",
   "execution_count": null,
   "id": "ae652963",
   "metadata": {},
   "outputs": [],
   "source": [
    "df.head(1)"
   ]
  },
  {
   "cell_type": "code",
   "execution_count": null,
   "id": "1c6ed5f0",
   "metadata": {},
   "outputs": [],
   "source": [
    "df.tail()"
   ]
  },
  {
   "cell_type": "code",
   "execution_count": null,
   "id": "8a74099d",
   "metadata": {},
   "outputs": [],
   "source": [
    "df.tail(1)"
   ]
  },
  {
   "cell_type": "markdown",
   "id": "3e7b6000",
   "metadata": {},
   "source": [
    "#### Element Operations in DataFrame ####"
   ]
  },
  {
   "cell_type": "code",
   "execution_count": null,
   "id": "7f55f395",
   "metadata": {},
   "outputs": [],
   "source": [
    "import numpy as np"
   ]
  },
  {
   "cell_type": "code",
   "execution_count": null,
   "id": "3bcb9ac5",
   "metadata": {},
   "outputs": [],
   "source": [
    "n1=np.random.randint(10, size=5)\n",
    "n2=n1=np.random.randint(10, size=5)\n",
    "n3=n1=np.random.randint(10, size=5)"
   ]
  },
  {
   "cell_type": "code",
   "execution_count": null,
   "id": "5cf0d2cd",
   "metadata": {},
   "outputs": [],
   "source": [
    "dicti={'m1':n1, 'm2':n2, 'm3':n3}"
   ]
  },
  {
   "cell_type": "code",
   "execution_count": null,
   "id": "d4d5193c",
   "metadata": {},
   "outputs": [],
   "source": [
    "dicti                                     # Values are numpy array."
   ]
  },
  {
   "cell_type": "code",
   "execution_count": null,
   "id": "0821bb7c",
   "metadata": {},
   "outputs": [],
   "source": [
    "df=pd.DataFrame(dicti)\n",
    "df                                        # The dataframe is from the dictionary. "
   ]
  },
  {
   "cell_type": "code",
   "execution_count": null,
   "id": "7a04ecc5",
   "metadata": {},
   "outputs": [],
   "source": [
    "df[0:1]"
   ]
  },
  {
   "cell_type": "code",
   "execution_count": null,
   "id": "5c9a1233",
   "metadata": {},
   "outputs": [],
   "source": [
    "df.index"
   ]
  },
  {
   "cell_type": "code",
   "execution_count": null,
   "id": "410f81b3",
   "metadata": {},
   "outputs": [],
   "source": [
    "df.index=['a','b','c','d','e']\n",
    "df"
   ]
  },
  {
   "cell_type": "code",
   "execution_count": null,
   "id": "5c298163",
   "metadata": {},
   "outputs": [],
   "source": [
    "df[:'a']"
   ]
  },
  {
   "cell_type": "code",
   "execution_count": null,
   "id": "ef8c4434",
   "metadata": {},
   "outputs": [],
   "source": [
    "df['a':'b']"
   ]
  },
  {
   "cell_type": "code",
   "execution_count": null,
   "id": "20e6f30d",
   "metadata": {},
   "outputs": [],
   "source": [
    "df['b':'d']"
   ]
  },
  {
   "cell_type": "code",
   "execution_count": null,
   "id": "23c3ed99",
   "metadata": {},
   "outputs": [],
   "source": [
    "g=['a']"
   ]
  },
  {
   "cell_type": "code",
   "execution_count": null,
   "id": "ec78bcb6",
   "metadata": {},
   "outputs": [],
   "source": [
    "df.loc['b', 'm2']            #We want to see one element-loc"
   ]
  },
  {
   "cell_type": "code",
   "execution_count": null,
   "id": "18228ab8",
   "metadata": {},
   "outputs": [],
   "source": [
    "df.loc['c', 'm2']"
   ]
  },
  {
   "cell_type": "code",
   "execution_count": null,
   "id": "f14e8e51",
   "metadata": {},
   "outputs": [],
   "source": [
    "df.(, axis=0)"
   ]
  },
  {
   "cell_type": "markdown",
   "id": "f1e3598c",
   "metadata": {},
   "source": [
    "#### Drop ####"
   ]
  },
  {
   "cell_type": "code",
   "execution_count": null,
   "id": "f8cf4a91",
   "metadata": {},
   "outputs": [],
   "source": [
    "df.drop('a', axis=0)"
   ]
  },
  {
   "cell_type": "code",
   "execution_count": null,
   "id": "dcf8691c",
   "metadata": {},
   "outputs": [],
   "source": [
    "df.drop('m1', axis=1)"
   ]
  },
  {
   "cell_type": "code",
   "execution_count": null,
   "id": "842b3a84",
   "metadata": {},
   "outputs": [],
   "source": [
    "df"
   ]
  },
  {
   "cell_type": "code",
   "execution_count": null,
   "id": "b2fab7bf",
   "metadata": {},
   "outputs": [],
   "source": [
    "df.drop('b', axis=0, inplace=True)\n",
    "df"
   ]
  },
  {
   "cell_type": "code",
   "execution_count": null,
   "id": "a56db0f7",
   "metadata": {},
   "outputs": [],
   "source": [
    "df.drop('m3', axis=1, inplace=True)\n",
    "df"
   ]
  },
  {
   "cell_type": "markdown",
   "id": "b512762f",
   "metadata": {},
   "source": [
    "#### Fancy Operation ####"
   ]
  },
  {
   "cell_type": "markdown",
   "id": "311957d4",
   "metadata": {},
   "source": [
    "#### type : 1 ####"
   ]
  },
  {
   "cell_type": "code",
   "execution_count": null,
   "id": "7b1fac1b",
   "metadata": {},
   "outputs": [],
   "source": [
    "y=['c','e']"
   ]
  },
  {
   "cell_type": "code",
   "execution_count": null,
   "id": "6b2ce320",
   "metadata": {},
   "outputs": [],
   "source": [
    "df.drop(y, axis=0)"
   ]
  },
  {
   "cell_type": "code",
   "execution_count": null,
   "id": "137f5914",
   "metadata": {},
   "outputs": [],
   "source": [
    "df"
   ]
  },
  {
   "cell_type": "markdown",
   "id": "0224e6b4",
   "metadata": {},
   "source": [
    "#### type : 2 ####"
   ]
  },
  {
   "cell_type": "code",
   "execution_count": null,
   "id": "0ad56e0b",
   "metadata": {},
   "outputs": [],
   "source": [
    "df.drop(['c','e'], axis=0)"
   ]
  },
  {
   "cell_type": "code",
   "execution_count": null,
   "id": "9399faff",
   "metadata": {},
   "outputs": [],
   "source": [
    "df"
   ]
  },
  {
   "cell_type": "code",
   "execution_count": null,
   "id": "3850b206",
   "metadata": {},
   "outputs": [],
   "source": [
    "'m1' in df"
   ]
  },
  {
   "cell_type": "code",
   "execution_count": null,
   "id": "9333a4aa",
   "metadata": {},
   "outputs": [],
   "source": [
    "l=['var1','var2','m1','d']"
   ]
  },
  {
   "cell_type": "code",
   "execution_count": null,
   "id": "6b47b447",
   "metadata": {},
   "outputs": [],
   "source": [
    "for i in l:\n",
    "    print(i in df)"
   ]
  },
  {
   "cell_type": "code",
   "execution_count": null,
   "id": "9727e277",
   "metadata": {},
   "outputs": [],
   "source": [
    "df"
   ]
  },
  {
   "cell_type": "code",
   "execution_count": null,
   "id": "bba1dcd3",
   "metadata": {},
   "outputs": [],
   "source": [
    "df['var4']=df['m1']*df['m2']"
   ]
  },
  {
   "cell_type": "code",
   "execution_count": null,
   "id": "209fd0c9",
   "metadata": {},
   "outputs": [],
   "source": [
    "df"
   ]
  },
  {
   "cell_type": "code",
   "execution_count": null,
   "id": "a5fbe234",
   "metadata": {},
   "outputs": [],
   "source": [
    "df.drop('var4', axis=1)"
   ]
  },
  {
   "cell_type": "code",
   "execution_count": null,
   "id": "994183db",
   "metadata": {},
   "outputs": [],
   "source": [
    "df"
   ]
  },
  {
   "cell_type": "markdown",
   "id": "d4566990",
   "metadata": {},
   "source": [
    "df.drop('var4', axis=1, inplace=True)"
   ]
  },
  {
   "cell_type": "code",
   "execution_count": null,
   "id": "e6f31e37",
   "metadata": {},
   "outputs": [],
   "source": [
    "df.drop('m1', axis=1, inplace=True)"
   ]
  },
  {
   "cell_type": "code",
   "execution_count": null,
   "id": "4616cfd7",
   "metadata": {},
   "outputs": [],
   "source": [
    "df"
   ]
  },
  {
   "cell_type": "code",
   "execution_count": null,
   "id": "03fda511",
   "metadata": {},
   "outputs": [],
   "source": [
    "df.drop('c', axis=0, inplace=True)"
   ]
  },
  {
   "cell_type": "code",
   "execution_count": null,
   "id": "2e985c77",
   "metadata": {},
   "outputs": [],
   "source": [
    "df"
   ]
  },
  {
   "cell_type": "markdown",
   "id": "4fdf9034",
   "metadata": {},
   "source": [
    "gözlem and değişken selection"
   ]
  },
  {
   "cell_type": "code",
   "execution_count": null,
   "id": "1d748039",
   "metadata": {},
   "outputs": [],
   "source": [
    "import numpy as np"
   ]
  },
  {
   "cell_type": "code",
   "execution_count": null,
   "id": "46d5b0d0",
   "metadata": {},
   "outputs": [],
   "source": [
    "e=np.random.randint(1,30, size=(10,3))\n",
    "e"
   ]
  },
  {
   "cell_type": "code",
   "execution_count": null,
   "id": "1788e7d5",
   "metadata": {},
   "outputs": [],
   "source": [
    "import pandas as pd"
   ]
  },
  {
   "cell_type": "code",
   "execution_count": null,
   "id": "987a3e83",
   "metadata": {},
   "outputs": [],
   "source": [
    "df=pd.DataFrame(e, columns=['mean1','mean2','mean3'])\n",
    "df"
   ]
  },
  {
   "cell_type": "code",
   "execution_count": null,
   "id": "43e0d546",
   "metadata": {},
   "outputs": [],
   "source": [
    "df[0:3]"
   ]
  },
  {
   "cell_type": "code",
   "execution_count": null,
   "id": "16322585",
   "metadata": {},
   "outputs": [],
   "source": [
    "df.loc[0:3]"
   ]
  },
  {
   "cell_type": "code",
   "execution_count": null,
   "id": "c70b47ec",
   "metadata": {},
   "outputs": [],
   "source": [
    "df.loc[4:6]                              #-6 include"
   ]
  },
  {
   "cell_type": "code",
   "execution_count": null,
   "id": "8b68514d",
   "metadata": {},
   "outputs": [],
   "source": [
    "df.loc[:6]"
   ]
  },
  {
   "cell_type": "code",
   "execution_count": null,
   "id": "804ff9ed",
   "metadata": {},
   "outputs": [],
   "source": [
    "df.loc[4,'mean1']                        "
   ]
  },
  {
   "cell_type": "code",
   "execution_count": null,
   "id": "1a7e863a",
   "metadata": {},
   "outputs": [],
   "source": [
    "df.iloc[4:6]                           # up to 6"
   ]
  },
  {
   "cell_type": "code",
   "execution_count": null,
   "id": "9f2f8091",
   "metadata": {},
   "outputs": [],
   "source": [
    "df.iloc[:4,:1]   "
   ]
  },
  {
   "cell_type": "code",
   "execution_count": null,
   "id": "33bbf990",
   "metadata": {},
   "outputs": [],
   "source": [
    "df.loc[:4,'mean2']"
   ]
  },
  {
   "cell_type": "code",
   "execution_count": null,
   "id": "4d70839d",
   "metadata": {},
   "outputs": [],
   "source": [
    "df.iloc[:4]['mean2']"
   ]
  },
  {
   "cell_type": "markdown",
   "id": "ef62aaba",
   "metadata": {},
   "source": [
    "### Conditional ###"
   ]
  },
  {
   "cell_type": "code",
   "execution_count": null,
   "id": "45db9310",
   "metadata": {},
   "outputs": [],
   "source": [
    "import numpy as np"
   ]
  },
  {
   "cell_type": "code",
   "execution_count": null,
   "id": "2b83da35",
   "metadata": {},
   "outputs": [],
   "source": [
    "p=np.random.randint(45, size=[9,5])\n",
    "p"
   ]
  },
  {
   "cell_type": "code",
   "execution_count": null,
   "id": "c787ef11",
   "metadata": {},
   "outputs": [],
   "source": [
    "import pandas as np"
   ]
  },
  {
   "cell_type": "code",
   "execution_count": null,
   "id": "2d469bb0",
   "metadata": {},
   "outputs": [],
   "source": [
    "q=pd.DataFrame(p)\n",
    "q"
   ]
  },
  {
   "cell_type": "code",
   "execution_count": null,
   "id": "1ecc767b",
   "metadata": {},
   "outputs": [],
   "source": [
    "q=pd.DataFrame(p, columns=(['std1','std2','std3','std4','std5']))\n",
    "q"
   ]
  },
  {
   "cell_type": "code",
   "execution_count": null,
   "id": "6bc88c03",
   "metadata": {},
   "outputs": [],
   "source": [
    "q['label']=q['std1']*q['std2']"
   ]
  },
  {
   "cell_type": "code",
   "execution_count": null,
   "id": "c3b2893d",
   "metadata": {
    "scrolled": true
   },
   "outputs": [],
   "source": [
    "q"
   ]
  },
  {
   "cell_type": "code",
   "execution_count": null,
   "id": "ab17a194",
   "metadata": {},
   "outputs": [],
   "source": [
    "q['label']"
   ]
  },
  {
   "cell_type": "code",
   "execution_count": null,
   "id": "5bd1692b",
   "metadata": {},
   "outputs": [],
   "source": [
    "q[:2][['std1','label']]        #If we see one more variable,we must use 'fancy'for instance:'std1' and 'label' is made a list.\n",
    "                               #But when we see one or one more feature,we use ['any feature']or ['any feature':'any feature']"
   ]
  },
  {
   "cell_type": "code",
   "execution_count": null,
   "id": "76135c59",
   "metadata": {},
   "outputs": [],
   "source": [
    "q"
   ]
  },
  {
   "cell_type": "code",
   "execution_count": null,
   "id": "05285b01",
   "metadata": {},
   "outputs": [],
   "source": [
    "q[q.std1>12]                  #Select bigger than 12 number in 'std1'."
   ]
  },
  {
   "cell_type": "code",
   "execution_count": null,
   "id": "8a0fe72e",
   "metadata": {},
   "outputs": [],
   "source": [
    "q[q.std1>12]['std2']          #And than select this conclusion in 'std2'"
   ]
  },
  {
   "cell_type": "code",
   "execution_count": null,
   "id": "ae598973",
   "metadata": {},
   "outputs": [],
   "source": [
    "q[(q.std1>12) & (q.std4>15)]"
   ]
  },
  {
   "cell_type": "markdown",
   "id": "49a7e78b",
   "metadata": {},
   "source": [
    "example-1"
   ]
  },
  {
   "cell_type": "code",
   "execution_count": null,
   "id": "c160dc07",
   "metadata": {},
   "outputs": [],
   "source": [
    "q.loc[(q.std1>12), ['std1', 'std2']]         "
   ]
  },
  {
   "cell_type": "markdown",
   "id": "381294a0",
   "metadata": {},
   "source": [
    "example-2"
   ]
  },
  {
   "cell_type": "code",
   "execution_count": null,
   "id": "663facde",
   "metadata": {},
   "outputs": [],
   "source": [
    "q[(q.std1>12)][['std1','std2']]       #This is the same with 'example1'."
   ]
  },
  {
   "cell_type": "markdown",
   "id": "073ffae5",
   "metadata": {},
   "source": [
    "### Join ###"
   ]
  },
  {
   "cell_type": "code",
   "execution_count": null,
   "id": "bfc6fd0d",
   "metadata": {},
   "outputs": [],
   "source": [
    "import numpy as np"
   ]
  },
  {
   "cell_type": "code",
   "execution_count": null,
   "id": "72a07332",
   "metadata": {},
   "outputs": [],
   "source": [
    "w=np.array([452,5525,581848,1,233])                 #We use 'array' for one dimension.\n",
    "w"
   ]
  },
  {
   "cell_type": "code",
   "execution_count": null,
   "id": "29da1f28",
   "metadata": {},
   "outputs": [],
   "source": [
    "q=np.arange(0,30).reshape(5,6)                     #We use 'arange' for more one than dimension.\n",
    "q"
   ]
  },
  {
   "cell_type": "code",
   "execution_count": null,
   "id": "5834f949",
   "metadata": {},
   "outputs": [],
   "source": [
    "pd.DataFrame(q)"
   ]
  },
  {
   "cell_type": "code",
   "execution_count": null,
   "id": "495bb936",
   "metadata": {},
   "outputs": [],
   "source": [
    "h=pd.DataFrame(q, columns=['colour_degree1','colour_degree2','colour_degree3','colour_degree4','colour_degree5','colour_degree6'])\n",
    "h"
   ]
  },
  {
   "cell_type": "code",
   "execution_count": null,
   "id": "6e22f3d8",
   "metadata": {},
   "outputs": [],
   "source": [
    "h2=h+5\n",
    "h2"
   ]
  },
  {
   "cell_type": "code",
   "execution_count": null,
   "id": "43e53d16",
   "metadata": {},
   "outputs": [],
   "source": [
    "pd.concat([h,h2])"
   ]
  },
  {
   "cell_type": "code",
   "execution_count": null,
   "id": "f5b35857",
   "metadata": {},
   "outputs": [],
   "source": [
    "pd.concat([h,h2], ignore_index=True)"
   ]
  },
  {
   "cell_type": "code",
   "execution_count": null,
   "id": "9a11a0e8",
   "metadata": {},
   "outputs": [],
   "source": [
    "h2"
   ]
  },
  {
   "cell_type": "code",
   "execution_count": null,
   "id": "0446c8bf",
   "metadata": {},
   "outputs": [],
   "source": [
    "h2.columns=['colour_degree1','colour_degree2','colour_degree3','colour_degree4','colour_high1','colour_high2']"
   ]
  },
  {
   "cell_type": "code",
   "execution_count": null,
   "id": "f29e0400",
   "metadata": {},
   "outputs": [],
   "source": [
    "h2"
   ]
  },
  {
   "cell_type": "code",
   "execution_count": null,
   "id": "042af2a2",
   "metadata": {},
   "outputs": [],
   "source": [
    "pd.concat([h,h2])"
   ]
  },
  {
   "cell_type": "code",
   "execution_count": null,
   "id": "f07eaeb4",
   "metadata": {},
   "outputs": [],
   "source": [
    "pd.concat([h,h2], join='inner')"
   ]
  },
  {
   "cell_type": "code",
   "execution_count": null,
   "id": "aa28d906",
   "metadata": {},
   "outputs": [],
   "source": [
    "pd.concat([h,h2] join_axes =[h2.columns])"
   ]
  },
  {
   "cell_type": "markdown",
   "id": "b03227f6",
   "metadata": {},
   "source": [
    "### Advanced Join ###"
   ]
  },
  {
   "cell_type": "code",
   "execution_count": null,
   "id": "cfa9b34d",
   "metadata": {},
   "outputs": [],
   "source": [
    "import pandas as pd"
   ]
  },
  {
   "cell_type": "code",
   "execution_count": null,
   "id": "e8aa59bb",
   "metadata": {},
   "outputs": [],
   "source": [
    "df1=pd.DataFrame({'staff_name':['john','george','maria','ali'],\n",
    "                 'staff_age':[5,5,64,18]})\n",
    "df1"
   ]
  },
  {
   "cell_type": "code",
   "execution_count": null,
   "id": "103a4512",
   "metadata": {},
   "outputs": [],
   "source": [
    "df2=pd.DataFrame({'staff_name':['john','george','maria','ali'],'start_work':[2000,2001,2002,2003]})\n",
    "df2"
   ]
  },
  {
   "cell_type": "code",
   "execution_count": null,
   "id": "610810ad",
   "metadata": {},
   "outputs": [],
   "source": [
    "df3=pd.merge(df1,df2)  \n",
    "df3                                              #'merge' is a  one-to-one merge"
   ]
  },
  {
   "cell_type": "code",
   "execution_count": null,
   "id": "0ad89c41",
   "metadata": {},
   "outputs": [],
   "source": [
    "pd.merge(df1,df2, on ='staff_name')"
   ]
  },
  {
   "cell_type": "code",
   "execution_count": null,
   "id": "06eeb839",
   "metadata": {},
   "outputs": [],
   "source": [
    "df4=pd.DataFrame({'staff_age':[5,5,64], 'staff_periyod':['morning','noon','evening']})\n",
    "df4                                                                                      #many-to-one merge"
   ]
  },
  {
   "cell_type": "code",
   "execution_count": null,
   "id": "116996c6",
   "metadata": {},
   "outputs": [],
   "source": [
    "pd.merge(df3,df4)"
   ]
  },
  {
   "cell_type": "code",
   "execution_count": null,
   "id": "8e3432ae",
   "metadata": {},
   "outputs": [],
   "source": [
    "df5=({'staff_name':['john','george','maria','ali',''],})                                                                                               #many to many"
   ]
  },
  {
   "cell_type": "markdown",
   "id": "ac597e25",
   "metadata": {},
   "source": [
    "### Agreegation and Grouping ###"
   ]
  },
  {
   "cell_type": "markdown",
   "id": "bb844c78",
   "metadata": {},
   "source": [
    "Agreegation Functions\n",
    "* count() - \n",
    "* first()-\n",
    "* last()-\n",
    "* mean()-\n",
    "* median()-\n",
    "* min()-\n",
    "* max()-\n",
    "* std()-\n",
    "* var()-\n",
    "* sum()-"
   ]
  },
  {
   "cell_type": "code",
   "execution_count": null,
   "id": "d118240b",
   "metadata": {},
   "outputs": [],
   "source": [
    "import seaborn as sns"
   ]
  },
  {
   "cell_type": "code",
   "execution_count": null,
   "id": "62b98606",
   "metadata": {},
   "outputs": [],
   "source": [
    "df=sns.load_dataset('planets')\n",
    "df"
   ]
  },
  {
   "cell_type": "code",
   "execution_count": null,
   "id": "f50e1d56",
   "metadata": {},
   "outputs": [],
   "source": [
    "df.head(15)"
   ]
  },
  {
   "cell_type": "code",
   "execution_count": null,
   "id": "54f28a61",
   "metadata": {},
   "outputs": [],
   "source": [
    "df.shape"
   ]
  },
  {
   "cell_type": "code",
   "execution_count": null,
   "id": "ab0b0bb7",
   "metadata": {},
   "outputs": [],
   "source": [
    "df.count()"
   ]
  },
  {
   "cell_type": "code",
   "execution_count": null,
   "id": "92272cc9",
   "metadata": {},
   "outputs": [],
   "source": [
    "df['number'].count()"
   ]
  },
  {
   "cell_type": "code",
   "execution_count": null,
   "id": "8e749d87",
   "metadata": {},
   "outputs": [],
   "source": [
    "df.first()"
   ]
  },
  {
   "cell_type": "code",
   "execution_count": null,
   "id": "8562c06a",
   "metadata": {},
   "outputs": [],
   "source": [
    "df.last()"
   ]
  },
  {
   "cell_type": "code",
   "execution_count": null,
   "id": "cd8d42a3",
   "metadata": {},
   "outputs": [],
   "source": [
    "df.mean()"
   ]
  },
  {
   "cell_type": "code",
   "execution_count": null,
   "id": "9562e616",
   "metadata": {},
   "outputs": [],
   "source": [
    "df['mass'].mean()"
   ]
  },
  {
   "cell_type": "code",
   "execution_count": null,
   "id": "a8b8af39",
   "metadata": {},
   "outputs": [],
   "source": [
    "df.median()"
   ]
  },
  {
   "cell_type": "code",
   "execution_count": null,
   "id": "fbbef3d7",
   "metadata": {},
   "outputs": [],
   "source": [
    "df['distance'].median()"
   ]
  },
  {
   "cell_type": "code",
   "execution_count": null,
   "id": "09612b46",
   "metadata": {},
   "outputs": [],
   "source": [
    "df.std()"
   ]
  },
  {
   "cell_type": "code",
   "execution_count": null,
   "id": "3ec8b276",
   "metadata": {},
   "outputs": [],
   "source": [
    "df['orbital_period'].std()"
   ]
  },
  {
   "cell_type": "code",
   "execution_count": null,
   "id": "840d09e2",
   "metadata": {},
   "outputs": [],
   "source": [
    "df.var()"
   ]
  },
  {
   "cell_type": "code",
   "execution_count": null,
   "id": "12a19711",
   "metadata": {},
   "outputs": [],
   "source": [
    "df['year'].var()"
   ]
  },
  {
   "cell_type": "code",
   "execution_count": null,
   "id": "7f53dcda",
   "metadata": {},
   "outputs": [],
   "source": [
    "df.sum()"
   ]
  },
  {
   "cell_type": "code",
   "execution_count": null,
   "id": "0c0e73d9",
   "metadata": {},
   "outputs": [],
   "source": [
    "df['mass'].sum()"
   ]
  },
  {
   "cell_type": "code",
   "execution_count": null,
   "id": "8940fc06",
   "metadata": {},
   "outputs": [],
   "source": [
    "df.max()"
   ]
  },
  {
   "cell_type": "code",
   "execution_count": null,
   "id": "622cedeb",
   "metadata": {},
   "outputs": [],
   "source": [
    "df['mass'].max()"
   ]
  },
  {
   "cell_type": "code",
   "execution_count": null,
   "id": "fa51b4ee",
   "metadata": {},
   "outputs": [],
   "source": [
    "df.min()"
   ]
  },
  {
   "cell_type": "code",
   "execution_count": null,
   "id": "d6dce856",
   "metadata": {},
   "outputs": [],
   "source": [
    "df['distance'].min()"
   ]
  },
  {
   "cell_type": "code",
   "execution_count": null,
   "id": "bf342df0",
   "metadata": {},
   "outputs": [],
   "source": [
    "df.describe()"
   ]
  },
  {
   "cell_type": "code",
   "execution_count": null,
   "id": "eea0c4a9",
   "metadata": {},
   "outputs": [],
   "source": [
    "df.describe().T"
   ]
  },
  {
   "cell_type": "code",
   "execution_count": null,
   "id": "f958a19c",
   "metadata": {},
   "outputs": [],
   "source": [
    "df.dropna().describe()                            #We see missing valuble with 'dropna'"
   ]
  },
  {
   "cell_type": "markdown",
   "id": "e0bdb0f7",
   "metadata": {},
   "source": [
    "#### Aggregate ####"
   ]
  },
  {
   "cell_type": "markdown",
   "id": "eb232234",
   "metadata": {},
   "source": [
    "#### We only see statistics values with 'aggregate' that we want. ####"
   ]
  },
  {
   "cell_type": "code",
   "execution_count": null,
   "id": "8977290b",
   "metadata": {},
   "outputs": [],
   "source": [
    "df3=pd.DataFrame({'student_class':['A','B','C','A','B'],'student_degree':[25,45,23,85,98],'student_age':[12,13,11,10,14]})\n",
    "df3"
   ]
  },
  {
   "cell_type": "code",
   "execution_count": null,
   "id": "c33bfe85",
   "metadata": {},
   "outputs": [],
   "source": [
    "df3.groupby('student_class')"
   ]
  },
  {
   "cell_type": "code",
   "execution_count": null,
   "id": "85b4dea6",
   "metadata": {},
   "outputs": [],
   "source": [
    "df3.groupby('student_class').mean()"
   ]
  },
  {
   "cell_type": "code",
   "execution_count": null,
   "id": "c61857ca",
   "metadata": {},
   "outputs": [],
   "source": [
    "df3.groupby('student_class').aggregate([max, min])"
   ]
  },
  {
   "cell_type": "code",
   "execution_count": null,
   "id": "3db5e7f1",
   "metadata": {},
   "outputs": [],
   "source": [
    "df"
   ]
  },
  {
   "cell_type": "code",
   "execution_count": null,
   "id": "b8903db0",
   "metadata": {},
   "outputs": [],
   "source": [
    "df.head(5)"
   ]
  },
  {
   "cell_type": "code",
   "execution_count": null,
   "id": "20ddbb3e",
   "metadata": {},
   "outputs": [],
   "source": [
    "df.groupby('method').aggregate([min, max])"
   ]
  },
  {
   "cell_type": "code",
   "execution_count": null,
   "id": "9f295d5b",
   "metadata": {},
   "outputs": [],
   "source": [
    "df.groupby('method')['mass'].aggregate([min, max])"
   ]
  },
  {
   "cell_type": "markdown",
   "id": "4f706677",
   "metadata": {},
   "source": [
    "#### Grouping ####"
   ]
  },
  {
   "cell_type": "markdown",
   "id": "5de946a4",
   "metadata": {},
   "source": [
    "#### We are able to use 'groupby',if data type is categoric. ####"
   ]
  },
  {
   "cell_type": "code",
   "execution_count": null,
   "id": "7b3f1e9b",
   "metadata": {},
   "outputs": [],
   "source": [
    "df1=pd.DataFrame({'student_class':['A','B','A','B'],'lecture_degree':[45,52,17,99]})"
   ]
  },
  {
   "cell_type": "code",
   "execution_count": null,
   "id": "457338dc",
   "metadata": {},
   "outputs": [],
   "source": [
    "df1"
   ]
  },
  {
   "cell_type": "code",
   "execution_count": null,
   "id": "01d5f8dd",
   "metadata": {},
   "outputs": [],
   "source": [
    "df1.groupby('student_class')"
   ]
  },
  {
   "cell_type": "code",
   "execution_count": null,
   "id": "e8411110",
   "metadata": {},
   "outputs": [],
   "source": [
    "df1.groupby('student_class').mean()"
   ]
  },
  {
   "cell_type": "code",
   "execution_count": null,
   "id": "0568c65e",
   "metadata": {},
   "outputs": [],
   "source": [
    "df1.groupby('student_class').sum()"
   ]
  },
  {
   "cell_type": "code",
   "execution_count": null,
   "id": "1f4e9a2a",
   "metadata": {},
   "outputs": [],
   "source": [
    "df"
   ]
  },
  {
   "cell_type": "code",
   "execution_count": null,
   "id": "dc2f1b9f",
   "metadata": {},
   "outputs": [],
   "source": [
    "df.groupby('method').std()"
   ]
  },
  {
   "cell_type": "code",
   "execution_count": null,
   "id": "ea682542",
   "metadata": {},
   "outputs": [],
   "source": [
    "df.groupby('method').std().head(3)"
   ]
  },
  {
   "cell_type": "code",
   "execution_count": null,
   "id": "0eeb584f",
   "metadata": {},
   "outputs": [],
   "source": [
    "df.groupby('method')['mass']"
   ]
  },
  {
   "cell_type": "code",
   "execution_count": null,
   "id": "4eaf3c58",
   "metadata": {},
   "outputs": [],
   "source": [
    "df.groupby('method')['mass'].mean()"
   ]
  },
  {
   "cell_type": "code",
   "execution_count": null,
   "id": "94313bdc",
   "metadata": {},
   "outputs": [],
   "source": [
    "df.groupby('method')['mass'].describe()"
   ]
  },
  {
   "cell_type": "markdown",
   "id": "8ec5a917",
   "metadata": {},
   "source": [
    "#### Filter ####"
   ]
  },
  {
   "cell_type": "code",
   "execution_count": null,
   "id": "57109530",
   "metadata": {},
   "outputs": [],
   "source": [
    "df"
   ]
  },
  {
   "cell_type": "code",
   "execution_count": null,
   "id": "d50ae664",
   "metadata": {},
   "outputs": [],
   "source": [
    "def filter_func(x):\n",
    "    return x['year'].min()>9"
   ]
  },
  {
   "cell_type": "code",
   "execution_count": null,
   "id": "741dfcbf",
   "metadata": {},
   "outputs": [],
   "source": [
    "df.groupby('method').filter(filter_func)"
   ]
  },
  {
   "cell_type": "code",
   "execution_count": null,
   "id": "25d61741",
   "metadata": {},
   "outputs": [],
   "source": [
    "def filter_func1(x):\n",
    "    return x['mass'].mean()>3.5"
   ]
  },
  {
   "cell_type": "code",
   "execution_count": null,
   "id": "2e3f18ea",
   "metadata": {},
   "outputs": [],
   "source": [
    "df.groupby('method').filter(filter_func1)"
   ]
  },
  {
   "cell_type": "markdown",
   "id": "25b431cf",
   "metadata": {},
   "source": [
    "#### Transform ####"
   ]
  },
  {
   "cell_type": "markdown",
   "id": "11226704",
   "metadata": {},
   "source": [
    "#### 'Transform' runs as vectorel.We are able to run function on our variable that I want.Transform do not run as object variable in DataFrame because of useing 'iloc'. ####"
   ]
  },
  {
   "cell_type": "code",
   "execution_count": null,
   "id": "97b06088",
   "metadata": {},
   "outputs": [],
   "source": [
    "df4=pd.DataFrame({'student_class':['A','B','C','A','B','C'],'lecture_degree':[12,11,98,55,45,70],'student_age':[12,45,25,32,20,63]},columns=['student_class','lecture_degree','student_age'])"
   ]
  },
  {
   "cell_type": "code",
   "execution_count": null,
   "id": "2bdb46a1",
   "metadata": {},
   "outputs": [],
   "source": [
    "df4"
   ]
  },
  {
   "cell_type": "code",
   "execution_count": null,
   "id": "2631a520",
   "metadata": {},
   "outputs": [],
   "source": [
    "df4['lecture_degree']*9"
   ]
  },
  {
   "cell_type": "code",
   "execution_count": null,
   "id": "42c2e2fc",
   "metadata": {},
   "outputs": [],
   "source": [
    "df5=df4.iloc[:,1:2]\n",
    "df5"
   ]
  },
  {
   "cell_type": "code",
   "execution_count": null,
   "id": "dd590edd",
   "metadata": {},
   "outputs": [],
   "source": [
    "df5.transform(lambda x:(x.std()) / x*5)"
   ]
  },
  {
   "cell_type": "code",
   "execution_count": null,
   "id": "695d485d",
   "metadata": {},
   "outputs": [],
   "source": [
    "df5.transform(lambda x:(x-x.mean()) / x.std())"
   ]
  },
  {
   "cell_type": "markdown",
   "id": "d715c793",
   "metadata": {},
   "source": [
    "#### Apply ####"
   ]
  },
  {
   "cell_type": "code",
   "execution_count": null,
   "id": "9e4d627a",
   "metadata": {},
   "outputs": [],
   "source": [
    "import numpy as np\n",
    "import pandas as pd"
   ]
  },
  {
   "cell_type": "code",
   "execution_count": null,
   "id": "4366b0c6",
   "metadata": {},
   "outputs": [],
   "source": [
    "df6=pd.DataFrame({'lecture_degree':[12,11,98,55,45,70],'student_age':[12,45,25,32,20,63]})\n",
    "df6"
   ]
  },
  {
   "cell_type": "code",
   "execution_count": null,
   "id": "0a76bd31",
   "metadata": {},
   "outputs": [],
   "source": [
    "df6.apply(np.mean)"
   ]
  },
  {
   "cell_type": "code",
   "execution_count": null,
   "id": "9d76c75d",
   "metadata": {},
   "outputs": [],
   "source": [
    "df6.apply(np.std)"
   ]
  },
  {
   "cell_type": "code",
   "execution_count": null,
   "id": "beee49fb",
   "metadata": {},
   "outputs": [],
   "source": [
    "df4"
   ]
  },
  {
   "cell_type": "code",
   "execution_count": null,
   "id": "aa8c32bb",
   "metadata": {},
   "outputs": [],
   "source": [
    "df4.groupby('student_class').apply(np.sum)"
   ]
  },
  {
   "cell_type": "code",
   "execution_count": null,
   "id": "cb1dda8e",
   "metadata": {},
   "outputs": [],
   "source": []
  }
 ],
 "metadata": {
  "kernelspec": {
   "display_name": "Python 3",
   "language": "python",
   "name": "python3"
  },
  "language_info": {
   "codemirror_mode": {
    "name": "ipython",
    "version": 3
   },
   "file_extension": ".py",
   "mimetype": "text/x-python",
   "name": "python",
   "nbconvert_exporter": "python",
   "pygments_lexer": "ipython3",
   "version": "3.7.0"
  }
 },
 "nbformat": 4,
 "nbformat_minor": 5
}
